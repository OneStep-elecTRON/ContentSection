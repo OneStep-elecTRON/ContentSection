{
  "nbformat": 4,
  "nbformat_minor": 0,
  "metadata": {
    "colab": {
      "name": "ANN.ipynb",
      "provenance": [],
      "collapsed_sections": []
    },
    "kernelspec": {
      "name": "python3",
      "display_name": "Python 3"
    },
    "language_info": {
      "name": "python"
    }
  },
  "cells": [
    {
      "cell_type": "markdown",
      "metadata": {
        "id": "sHM5Dtbe5Dei"
      },
      "source": [
        "- In this notebook, we are going to implement simplest Artificail Neural Network(ANN) algorithm with the help of tensorflow.\n",
        "<h3>\n",
        "  First of all, What is neural network and how it works?\n",
        "</h3>\n",
        "<h4>\n",
        "  Neural networks is like human brain which recognize the patterns, images, colours in pictures and clasify according to it.Also, solve distinguish problems in the fields of Machine learning, deep learning and AI.<br><br>\n",
        "  Easiest to build and simpler to understand neural network is Artificial neural networks which is also known as simulated neural network, and their names and structures are inspired by the human brain.<br><br>\n",
        "  Artificial neural networks (ANNs) are built with hidden layers connected to previous layer's nodes either fully or partially(Drop-out). Like machine learning algorithm, in neural networks weights are updated during backpropogation process. At startes, weights are generally defined as randon numbers rather than zeros which leads the neurons to learn the same features during training. <br><br>\n",
        "  So Let's see how we can dive into first and simplest Artificial neural network.\n",
        "</h4>\n",
        "\n",
        "---\n",
        "\n"
      ]
    },
    {
      "cell_type": "markdown",
      "metadata": {
        "id": "_M1FoSFupVbN"
      },
      "source": [
        "## Importing Libraries"
      ]
    },
    {
      "cell_type": "markdown",
      "metadata": {
        "id": "8xIeZsJvuwSI"
      },
      "source": [
        "- To build Neural network, in this notebook we are going to use tensorflow framework as it is standard for educational purpose."
      ]
    },
    {
      "cell_type": "code",
      "metadata": {
        "id": "uVnwZYsFgX_G"
      },
      "source": [
        "import pandas as pd\n",
        "import numpy as np\n",
        "from matplotlib import pyplot as plt\n",
        "import tensorflow as tf"
      ],
      "execution_count": null,
      "outputs": []
    },
    {
      "cell_type": "code",
      "metadata": {
        "colab": {
          "base_uri": "https://localhost:8080/",
          "height": 35
        },
        "id": "tcAgvN9zx6rF",
        "outputId": "8eebc5cd-8f61-42f8-f786-9bcc15b15fa5"
      },
      "source": [
        "tf.__version__"
      ],
      "execution_count": null,
      "outputs": [
        {
          "output_type": "execute_result",
          "data": {
            "application/vnd.google.colaboratory.intrinsic+json": {
              "type": "string"
            },
            "text/plain": [
              "'2.6.0'"
            ]
          },
          "metadata": {},
          "execution_count": 2
        }
      ]
    },
    {
      "cell_type": "markdown",
      "metadata": {
        "id": "YwrMf_mepYW7"
      },
      "source": [
        "## Loading Dataset for Linear Regression"
      ]
    },
    {
      "cell_type": "markdown",
      "metadata": {
        "id": "IoIuh5-BvKeH"
      },
      "source": [
        "- Dataset is for Linear regression in which there is value of x and dependent value y which we will predict by building simple artificial neural network."
      ]
    },
    {
      "cell_type": "code",
      "metadata": {
        "id": "5IkttPL1gkvz"
      },
      "source": [
        "data = \"/content/train.csv\"\n",
        "df = pd.read_csv(data)"
      ],
      "execution_count": null,
      "outputs": []
    },
    {
      "cell_type": "code",
      "metadata": {
        "colab": {
          "base_uri": "https://localhost:8080/",
          "height": 204
        },
        "id": "r6CtoQ0fyBJE",
        "outputId": "bba482ef-cff6-4824-9def-84da3d723b1b"
      },
      "source": [
        "df.head() # To get first 5 rows"
      ],
      "execution_count": null,
      "outputs": [
        {
          "output_type": "execute_result",
          "data": {
            "text/html": [
              "<div>\n",
              "<style scoped>\n",
              "    .dataframe tbody tr th:only-of-type {\n",
              "        vertical-align: middle;\n",
              "    }\n",
              "\n",
              "    .dataframe tbody tr th {\n",
              "        vertical-align: top;\n",
              "    }\n",
              "\n",
              "    .dataframe thead th {\n",
              "        text-align: right;\n",
              "    }\n",
              "</style>\n",
              "<table border=\"1\" class=\"dataframe\">\n",
              "  <thead>\n",
              "    <tr style=\"text-align: right;\">\n",
              "      <th></th>\n",
              "      <th>x</th>\n",
              "      <th>y</th>\n",
              "    </tr>\n",
              "  </thead>\n",
              "  <tbody>\n",
              "    <tr>\n",
              "      <th>0</th>\n",
              "      <td>24.0</td>\n",
              "      <td>21.549452</td>\n",
              "    </tr>\n",
              "    <tr>\n",
              "      <th>1</th>\n",
              "      <td>50.0</td>\n",
              "      <td>47.464463</td>\n",
              "    </tr>\n",
              "    <tr>\n",
              "      <th>2</th>\n",
              "      <td>15.0</td>\n",
              "      <td>17.218656</td>\n",
              "    </tr>\n",
              "    <tr>\n",
              "      <th>3</th>\n",
              "      <td>38.0</td>\n",
              "      <td>36.586398</td>\n",
              "    </tr>\n",
              "    <tr>\n",
              "      <th>4</th>\n",
              "      <td>87.0</td>\n",
              "      <td>87.288984</td>\n",
              "    </tr>\n",
              "  </tbody>\n",
              "</table>\n",
              "</div>"
            ],
            "text/plain": [
              "      x          y\n",
              "0  24.0  21.549452\n",
              "1  50.0  47.464463\n",
              "2  15.0  17.218656\n",
              "3  38.0  36.586398\n",
              "4  87.0  87.288984"
            ]
          },
          "metadata": {},
          "execution_count": 4
        }
      ]
    },
    {
      "cell_type": "markdown",
      "metadata": {
        "id": "FyvlKcC3zKgx"
      },
      "source": [
        "### Let's see how our data looks like."
      ]
    },
    {
      "cell_type": "code",
      "metadata": {
        "colab": {
          "base_uri": "https://localhost:8080/",
          "height": 312
        },
        "id": "UJOJszflzKNg",
        "outputId": "6cd238f0-ee5b-4e2d-c0d6-4f75ac0440df"
      },
      "source": [
        "plt.scatter(X, Y)\n",
        "plt.title('Dataset')\n",
        "plt.xlabel(\"X\")\n",
        "plt.ylabel(\"Y\")"
      ],
      "execution_count": null,
      "outputs": [
        {
          "output_type": "execute_result",
          "data": {
            "text/plain": [
              "Text(0, 0.5, 'Y')"
            ]
          },
          "metadata": {},
          "execution_count": 18
        },
        {
          "output_type": "display_data",
          "data": {
            "image/png": "[encoded data removed]",
            "text/plain": [
              "<Figure size 432x288 with 1 Axes>"
            ]
          },
          "metadata": {
            "needs_background": "light"
          }
        }
      ]
    },
    {
      "cell_type": "markdown",
      "metadata": {
        "id": "KdicHGBeotfQ"
      },
      "source": [
        "## Data preprocessing"
      ]
    },
    {
      "cell_type": "markdown",
      "metadata": {
        "id": "pKAh3ViEvkc7"
      },
      "source": [
        "- Before starting to make model structure and training, we will do data preproceesing in which data cleaning, normalization takes place.\n",
        "- Data preprocessing is very important in any model building task because our model accuracy is dependant upon data so more clean data means more efficient data.\n",
        "- In this notebook, we will clean nan values. To do so, there are different options like first is to drop that row and others include replacing nan with value of average, max, medium, etc."
      ]
    },
    {
      "cell_type": "code",
      "metadata": {
        "colab": {
          "base_uri": "https://localhost:8080/"
        },
        "id": "iz3sJjTQoX1o",
        "outputId": "9b4ed71d-7c18-425b-df07-d935fe170f3c"
      },
      "source": [
        "df.info() # To get information about dataframe"
      ],
      "execution_count": null,
      "outputs": [
        {
          "output_type": "stream",
          "text": [
            "<class 'pandas.core.frame.DataFrame'>\n",
            "RangeIndex: 700 entries, 0 to 699\n",
            "Data columns (total 2 columns):\n",
            " #   Column  Non-Null Count  Dtype  \n",
            "---  ------  --------------  -----  \n",
            " 0   x       700 non-null    float64\n",
            " 1   y       699 non-null    float64\n",
            "dtypes: float64(2)\n",
            "memory usage: 11.1 KB\n"
          ],
          "name": "stdout"
        }
      ]
    },
    {
      "cell_type": "code",
      "metadata": {
        "colab": {
          "base_uri": "https://localhost:8080/"
        },
        "id": "p3Xl6oYxoxTO",
        "outputId": "ab8837c5-d5aa-4917-80f1-d80cb892929a"
      },
      "source": [
        "df.isnull().sum() # To show total number of null values in dataframe"
      ],
      "execution_count": null,
      "outputs": [
        {
          "output_type": "execute_result",
          "data": {
            "text/plain": [
              "x    0\n",
              "y    1\n",
              "dtype: int64"
            ]
          },
          "metadata": {},
          "execution_count": 6
        }
      ]
    },
    {
      "cell_type": "code",
      "metadata": {
        "id": "qZaBkHcFto5c"
      },
      "source": [
        "df.dropna(inplace=True) # To drop na value row and replace it with original dataframe"
      ],
      "execution_count": null,
      "outputs": []
    },
    {
      "cell_type": "code",
      "metadata": {
        "id": "gbfTaVNAo397"
      },
      "source": [
        "X = df['x'].values # Input value\n",
        "Y = df['y'].values # Dependent value"
      ],
      "execution_count": null,
      "outputs": []
    },
    {
      "cell_type": "markdown",
      "metadata": {
        "id": "Jo4BhKfdpO_V"
      },
      "source": [
        "## Modeling"
      ]
    },
    {
      "cell_type": "markdown",
      "metadata": {
        "id": "vnznzBbaqHtL"
      },
      "source": [
        "- In this notebook, we are going to build model with tensorflow framework. In tensorflow, there are 3 methods to build neural network model.\n",
        "1. Using Sequencial API\n",
        "2. Using Functional API\n",
        "3. Using Model Subclassing\n",
        "\n",
        "- Although, the easiest method to make model is using sequencial API, here we will be making simple neural network model using <b>functional API</b>.So let's get started."
      ]
    },
    {
      "cell_type": "markdown",
      "metadata": {
        "id": "npTF-vlaz9OW"
      },
      "source": [
        "- Here is example of methods of writing model structure.\n",
        "<img src = \"https://miro.medium.com/max/1400/1*WzwKtnA0LEhiCGdWTTpLaA.png\">\n",
        "\n",
        "- Image is taken from Internet."
      ]
    },
    {
      "cell_type": "code",
      "metadata": {
        "id": "cBC1ElLFpMlT"
      },
      "source": [
        "def model():\n",
        "  inp = tf.keras.Input((1))             # Input layer\n",
        "  net = tf.keras.layers.Dense(4)(inp)   # Hidden layer 1\n",
        "  net = tf.keras.layers.Dense(4)(net)   # Hidden layer 2\n",
        "  op  = tf.keras.layers.Dense(1)(net)   # Output layer\n",
        "\n",
        "  model = tf.keras.Model(inputs = [inp], outputs = [op])    # Defining Model\n",
        "  \n",
        "  # Compiling model with appropriate parameters\n",
        "  model.compile(loss = tf.keras.losses.MeanAbsoluteError(), \n",
        "                optimizer = tf.keras.optimizers.Adam(learning_rate=0.0005)) \n",
        "  \n",
        "  return model"
      ],
      "execution_count": null,
      "outputs": []
    },
    {
      "cell_type": "code",
      "metadata": {
        "colab": {
          "base_uri": "https://localhost:8080/"
        },
        "id": "R_1xZOuQr8b4",
        "outputId": "9959b922-b409-43d5-a2e6-597ac914d765"
      },
      "source": [
        "model = model()\n",
        "\n",
        "# To get summary of model like parameter count and layers name \n",
        "model.summary()"
      ],
      "execution_count": null,
      "outputs": [
        {
          "output_type": "stream",
          "text": [
            "Model: \"model\"\n",
            "_________________________________________________________________\n",
            "Layer (type)                 Output Shape              Param #   \n",
            "=================================================================\n",
            "input_1 (InputLayer)         [(None, 1)]               0         \n",
            "_________________________________________________________________\n",
            "dense (Dense)                (None, 4)                 8         \n",
            "_________________________________________________________________\n",
            "dense_1 (Dense)              (None, 4)                 20        \n",
            "_________________________________________________________________\n",
            "dense_2 (Dense)              (None, 1)                 5         \n",
            "=================================================================\n",
            "Total params: 33\n",
            "Trainable params: 33\n",
            "Non-trainable params: 0\n",
            "_________________________________________________________________\n"
          ],
          "name": "stdout"
        }
      ]
    },
    {
      "cell_type": "code",
      "metadata": {
        "colab": {
          "base_uri": "https://localhost:8080/"
        },
        "id": "7hvxHKDNr_38",
        "outputId": "d9e629d1-54bf-4b8b-efb8-ab795370f4b4"
      },
      "source": [
        "# Training our model for 100 epochs and by 16 batches(Usefull when data is more)\n",
        "history = model.fit(x = X, y = Y,batch_size=16, epochs = 100)"
      ],
      "execution_count": null,
      "outputs": [
        {
          "output_type": "stream",
          "text": [
            "Epoch 1/100\n",
            "44/44 [==============================] - 0s 1ms/step - loss: 65.8667\n",
            "Epoch 2/100\n",
            "44/44 [==============================] - 0s 956us/step - loss: 61.2379\n",
            "Epoch 3/100\n",
            "44/44 [==============================] - 0s 988us/step - loss: 56.7355\n",
            "Epoch 4/100\n",
            "44/44 [==============================] - 0s 962us/step - loss: 51.9300\n",
            "Epoch 5/100\n",
            "44/44 [==============================] - 0s 1ms/step - loss: 46.4350\n",
            "Epoch 6/100\n",
            "44/44 [==============================] - 0s 1ms/step - loss: 39.9266\n",
            "Epoch 7/100\n",
            "44/44 [==============================] - 0s 1ms/step - loss: 32.1808\n",
            "Epoch 8/100\n",
            "44/44 [==============================] - 0s 992us/step - loss: 23.1637\n",
            "Epoch 9/100\n",
            "44/44 [==============================] - 0s 1ms/step - loss: 12.6670\n",
            "Epoch 10/100\n",
            "44/44 [==============================] - 0s 1ms/step - loss: 3.5605\n",
            "Epoch 11/100\n",
            "44/44 [==============================] - 0s 1ms/step - loss: 2.3235\n",
            "Epoch 12/100\n",
            "44/44 [==============================] - 0s 1ms/step - loss: 2.3152\n",
            "Epoch 13/100\n",
            "44/44 [==============================] - 0s 1ms/step - loss: 2.3201\n",
            "Epoch 14/100\n",
            "44/44 [==============================] - 0s 1ms/step - loss: 2.3114\n",
            "Epoch 15/100\n",
            "44/44 [==============================] - 0s 1ms/step - loss: 2.3042\n",
            "Epoch 16/100\n",
            "44/44 [==============================] - 0s 1ms/step - loss: 2.3120\n",
            "Epoch 17/100\n",
            "44/44 [==============================] - 0s 1ms/step - loss: 2.3030\n",
            "Epoch 18/100\n",
            "44/44 [==============================] - 0s 1ms/step - loss: 2.2959\n",
            "Epoch 19/100\n",
            "44/44 [==============================] - 0s 1ms/step - loss: 2.2984\n",
            "Epoch 20/100\n",
            "44/44 [==============================] - 0s 1ms/step - loss: 2.2987\n",
            "Epoch 21/100\n",
            "44/44 [==============================] - 0s 1ms/step - loss: 2.2951\n",
            "Epoch 22/100\n",
            "44/44 [==============================] - 0s 997us/step - loss: 2.2968\n",
            "Epoch 23/100\n",
            "44/44 [==============================] - 0s 1ms/step - loss: 2.3050\n",
            "Epoch 24/100\n",
            "44/44 [==============================] - 0s 1ms/step - loss: 2.2925\n",
            "Epoch 25/100\n",
            "44/44 [==============================] - 0s 1ms/step - loss: 2.2850\n",
            "Epoch 26/100\n",
            "44/44 [==============================] - 0s 1ms/step - loss: 2.2785\n",
            "Epoch 27/100\n",
            "44/44 [==============================] - 0s 983us/step - loss: 2.2970\n",
            "Epoch 28/100\n",
            "44/44 [==============================] - 0s 1ms/step - loss: 2.2866\n",
            "Epoch 29/100\n",
            "44/44 [==============================] - 0s 1ms/step - loss: 2.2917\n",
            "Epoch 30/100\n",
            "44/44 [==============================] - 0s 1ms/step - loss: 2.2791\n",
            "Epoch 31/100\n",
            "44/44 [==============================] - 0s 1ms/step - loss: 2.2739\n",
            "Epoch 32/100\n",
            "44/44 [==============================] - 0s 1ms/step - loss: 2.2727\n",
            "Epoch 33/100\n",
            "44/44 [==============================] - 0s 1ms/step - loss: 2.2699\n",
            "Epoch 34/100\n",
            "44/44 [==============================] - 0s 1ms/step - loss: 2.2757\n",
            "Epoch 35/100\n",
            "44/44 [==============================] - 0s 1ms/step - loss: 2.2625\n",
            "Epoch 36/100\n",
            "44/44 [==============================] - 0s 986us/step - loss: 2.2671\n",
            "Epoch 37/100\n",
            "44/44 [==============================] - 0s 952us/step - loss: 2.2690\n",
            "Epoch 38/100\n",
            "44/44 [==============================] - 0s 1ms/step - loss: 2.2613\n",
            "Epoch 39/100\n",
            "44/44 [==============================] - 0s 976us/step - loss: 2.2574\n",
            "Epoch 40/100\n",
            "44/44 [==============================] - 0s 991us/step - loss: 2.2616\n",
            "Epoch 41/100\n",
            "44/44 [==============================] - 0s 1ms/step - loss: 2.2559\n",
            "Epoch 42/100\n",
            "44/44 [==============================] - 0s 1ms/step - loss: 2.2525\n",
            "Epoch 43/100\n",
            "44/44 [==============================] - 0s 1ms/step - loss: 2.2606\n",
            "Epoch 44/100\n",
            "44/44 [==============================] - 0s 974us/step - loss: 2.2666\n",
            "Epoch 45/100\n",
            "44/44 [==============================] - 0s 1ms/step - loss: 2.2579\n",
            "Epoch 46/100\n",
            "44/44 [==============================] - 0s 1ms/step - loss: 2.2486\n",
            "Epoch 47/100\n",
            "44/44 [==============================] - 0s 1ms/step - loss: 2.2565\n",
            "Epoch 48/100\n",
            "44/44 [==============================] - 0s 1ms/step - loss: 2.2524\n",
            "Epoch 49/100\n",
            "44/44 [==============================] - 0s 1ms/step - loss: 2.2433\n",
            "Epoch 50/100\n",
            "44/44 [==============================] - 0s 1ms/step - loss: 2.2607\n",
            "Epoch 51/100\n",
            "44/44 [==============================] - 0s 1ms/step - loss: 2.2409\n",
            "Epoch 52/100\n",
            "44/44 [==============================] - 0s 1ms/step - loss: 2.2591\n",
            "Epoch 53/100\n",
            "44/44 [==============================] - 0s 1ms/step - loss: 2.2525\n",
            "Epoch 54/100\n",
            "44/44 [==============================] - 0s 1ms/step - loss: 2.2453\n",
            "Epoch 55/100\n",
            "44/44 [==============================] - 0s 1ms/step - loss: 2.2431\n",
            "Epoch 56/100\n",
            "44/44 [==============================] - 0s 1ms/step - loss: 2.2628\n",
            "Epoch 57/100\n",
            "44/44 [==============================] - 0s 989us/step - loss: 2.2569\n",
            "Epoch 58/100\n",
            "44/44 [==============================] - 0s 1ms/step - loss: 2.2356\n",
            "Epoch 59/100\n",
            "44/44 [==============================] - 0s 1ms/step - loss: 2.2465\n",
            "Epoch 60/100\n",
            "44/44 [==============================] - 0s 965us/step - loss: 2.2638\n",
            "Epoch 61/100\n",
            "44/44 [==============================] - 0s 1ms/step - loss: 2.2436\n",
            "Epoch 62/100\n",
            "44/44 [==============================] - 0s 948us/step - loss: 2.2442\n",
            "Epoch 63/100\n",
            "44/44 [==============================] - 0s 962us/step - loss: 2.2450\n",
            "Epoch 64/100\n",
            "44/44 [==============================] - 0s 987us/step - loss: 2.2565\n",
            "Epoch 65/100\n",
            "44/44 [==============================] - 0s 956us/step - loss: 2.2355\n",
            "Epoch 66/100\n",
            "44/44 [==============================] - 0s 1ms/step - loss: 2.2473\n",
            "Epoch 67/100\n",
            "44/44 [==============================] - 0s 938us/step - loss: 2.2393\n",
            "Epoch 68/100\n",
            "44/44 [==============================] - 0s 2ms/step - loss: 2.2355\n",
            "Epoch 69/100\n",
            "44/44 [==============================] - 0s 1ms/step - loss: 2.2584\n",
            "Epoch 70/100\n",
            "44/44 [==============================] - 0s 1ms/step - loss: 2.2437\n",
            "Epoch 71/100\n",
            "44/44 [==============================] - 0s 1ms/step - loss: 2.2458\n",
            "Epoch 72/100\n",
            "44/44 [==============================] - 0s 1ms/step - loss: 2.2348\n",
            "Epoch 73/100\n",
            "44/44 [==============================] - 0s 1ms/step - loss: 2.2541\n",
            "Epoch 74/100\n",
            "44/44 [==============================] - 0s 1ms/step - loss: 2.2444\n",
            "Epoch 75/100\n",
            "44/44 [==============================] - 0s 1ms/step - loss: 2.2416\n",
            "Epoch 76/100\n",
            "44/44 [==============================] - 0s 973us/step - loss: 2.2536\n",
            "Epoch 77/100\n",
            "44/44 [==============================] - 0s 989us/step - loss: 2.2396\n",
            "Epoch 78/100\n",
            "44/44 [==============================] - 0s 1ms/step - loss: 2.2340\n",
            "Epoch 79/100\n",
            "44/44 [==============================] - 0s 1ms/step - loss: 2.2490\n",
            "Epoch 80/100\n",
            "44/44 [==============================] - 0s 1ms/step - loss: 2.2420\n",
            "Epoch 81/100\n",
            "44/44 [==============================] - 0s 1ms/step - loss: 2.2359\n",
            "Epoch 82/100\n",
            "44/44 [==============================] - 0s 1ms/step - loss: 2.2351\n",
            "Epoch 83/100\n",
            "44/44 [==============================] - 0s 1ms/step - loss: 2.2474\n",
            "Epoch 84/100\n",
            "44/44 [==============================] - 0s 981us/step - loss: 2.2410\n",
            "Epoch 85/100\n",
            "44/44 [==============================] - 0s 1ms/step - loss: 2.2451\n",
            "Epoch 86/100\n",
            "44/44 [==============================] - 0s 1ms/step - loss: 2.2364\n",
            "Epoch 87/100\n",
            "44/44 [==============================] - 0s 999us/step - loss: 2.2628\n",
            "Epoch 88/100\n",
            "44/44 [==============================] - 0s 1ms/step - loss: 2.2606\n",
            "Epoch 89/100\n",
            "44/44 [==============================] - 0s 1ms/step - loss: 2.2371\n",
            "Epoch 90/100\n",
            "44/44 [==============================] - 0s 1ms/step - loss: 2.2383\n",
            "Epoch 91/100\n",
            "44/44 [==============================] - 0s 1ms/step - loss: 2.2338\n",
            "Epoch 92/100\n",
            "44/44 [==============================] - 0s 1ms/step - loss: 2.2509\n",
            "Epoch 93/100\n",
            "44/44 [==============================] - 0s 980us/step - loss: 2.2388\n",
            "Epoch 94/100\n",
            "44/44 [==============================] - 0s 1ms/step - loss: 2.2343\n",
            "Epoch 95/100\n",
            "44/44 [==============================] - 0s 1ms/step - loss: 2.2370\n",
            "Epoch 96/100\n",
            "44/44 [==============================] - 0s 1ms/step - loss: 2.2371\n",
            "Epoch 97/100\n",
            "44/44 [==============================] - 0s 967us/step - loss: 2.2408\n",
            "Epoch 98/100\n",
            "44/44 [==============================] - 0s 972us/step - loss: 2.2422\n",
            "Epoch 99/100\n",
            "44/44 [==============================] - 0s 1ms/step - loss: 2.2630\n",
            "Epoch 100/100\n",
            "44/44 [==============================] - 0s 1ms/step - loss: 2.2411\n"
          ],
          "name": "stdout"
        }
      ]
    },
    {
      "cell_type": "code",
      "metadata": {
        "colab": {
          "base_uri": "https://localhost:8080/"
        },
        "id": "azOCInEBsXm0",
        "outputId": "1e454bd6-f091-4d9b-999f-43bb997f979b"
      },
      "source": [
        "model.predict([38])"
      ],
      "execution_count": null,
      "outputs": [
        {
          "output_type": "execute_result",
          "data": {
            "text/plain": [
              "array([[38.058372]], dtype=float32)"
            ]
          },
          "metadata": {},
          "execution_count": 12
        }
      ]
    },
    {
      "cell_type": "markdown",
      "metadata": {
        "id": "LPgKKgwvyJas"
      },
      "source": [
        "## Visualization"
      ]
    },
    {
      "cell_type": "code",
      "metadata": {
        "colab": {
          "base_uri": "https://localhost:8080/",
          "height": 312
        },
        "id": "f4_v99fotDlz",
        "outputId": "c76ade32-8304-46b4-f4cf-32231efde53e"
      },
      "source": [
        "plt.plot(history.history['loss'], label='train')\n",
        "plt.title('Loss')\n",
        "plt.xlabel('Epochs')\n",
        "plt.ylabel('Loss')"
      ],
      "execution_count": null,
      "outputs": [
        {
          "output_type": "execute_result",
          "data": {
            "text/plain": [
              "Text(0, 0.5, 'Loss')"
            ]
          },
          "metadata": {},
          "execution_count": 14
        },
        {
          "output_type": "display_data",
          "data": {
            "image/png": "[encoded data removed]",
            "text/plain": [
              "<Figure size 432x288 with 1 Axes>"
            ]
          },
          "metadata": {
            "needs_background": "light"
          }
        }
      ]
    },
    {
      "cell_type": "markdown",
      "metadata": {
        "id": "SEsnNofn4aW-"
      },
      "source": [
        "- Getting predicted value for all X value"
      ]
    },
    {
      "cell_type": "code",
      "metadata": {
        "id": "ua8uoLUX3dlH"
      },
      "source": [
        "y_preds = model.predict(X)"
      ],
      "execution_count": null,
      "outputs": []
    },
    {
      "cell_type": "markdown",
      "metadata": {
        "id": "GpU24RLS4RnY"
      },
      "source": [
        "#### Weights of model"
      ]
    },
    {
      "cell_type": "code",
      "metadata": {
        "colab": {
          "base_uri": "https://localhost:8080/"
        },
        "id": "c78ba5YO3xSm",
        "outputId": "94735016-1300-40d0-9b35-be6c00c0539d"
      },
      "source": [
        "model.get_weights()"
      ],
      "execution_count": null,
      "outputs": [
        {
          "output_type": "execute_result",
          "data": {
            "text/plain": [
              "[array([[-0.37482524, -0.21314773, -0.3851546 ,  0.7211719 ]],\n",
              "       dtype=float32),\n",
              " array([-0.02550269,  0.01446619,  0.07469458, -0.11153169], dtype=float32),\n",
              " array([[ 0.41727817, -1.1593966 , -0.06526762, -0.5727724 ],\n",
              "        [ 0.05837815, -1.0951852 ,  0.0324135 , -0.9947022 ],\n",
              "        [-0.1630445 ,  0.15298577,  0.03729813,  0.16038027],\n",
              "        [ 0.621241  ,  1.1176963 , -0.1348401 , -0.44156536]],\n",
              "       dtype=float32),\n",
              " array([-0.00742224, -0.00394698,  0.00868526, -0.00015398], dtype=float32),\n",
              " array([[ 0.5293404],\n",
              "        [ 0.5344096],\n",
              "        [-0.4104602],\n",
              "        [ 0.5983508]], dtype=float32),\n",
              " array([0.00023291], dtype=float32)]"
            ]
          },
          "metadata": {},
          "execution_count": 27
        }
      ]
    },
    {
      "cell_type": "markdown",
      "metadata": {
        "id": "brCeZO5h4M-G"
      },
      "source": [
        "#### Plotting predicted values"
      ]
    },
    {
      "cell_type": "code",
      "metadata": {
        "colab": {
          "base_uri": "https://localhost:8080/",
          "height": 282
        },
        "id": "_R2YvYnM3kWt",
        "outputId": "77d53633-9df7-41c2-deaa-2784db73b90a"
      },
      "source": [
        "plt.scatter(X, y_preds)"
      ],
      "execution_count": null,
      "outputs": [
        {
          "output_type": "execute_result",
          "data": {
            "text/plain": [
              "<matplotlib.collections.PathCollection at 0x7fd2e4d44c50>"
            ]
          },
          "metadata": {},
          "execution_count": 29
        },
        {
          "output_type": "display_data",
          "data": {
            "image/png": "[encoded data removed]",
            "text/plain": [
              "<Figure size 432x288 with 1 Axes>"
            ]
          },
          "metadata": {
            "needs_background": "light"
          }
        }
      ]
    },
    {
      "cell_type": "markdown",
      "metadata": {
        "id": "A3-jLb9-4pej"
      },
      "source": [
        "<h3>\n",
        "  As it can be seen that model has successfully implemented Linear regression.\n",
        "</h3>"
      ]
    }
  ]
}